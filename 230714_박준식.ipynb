{
 "cells": [
  {
   "cell_type": "markdown",
   "id": "48f4c97a",
   "metadata": {},
   "source": [
    "# Git\n",
    "---"
   ]
  },
  {
   "cell_type": "markdown",
   "id": "926ac371",
   "metadata": {},
   "source": [
    "### Git 커밋 흐름\n",
    "- push, pull 만 하는게 아니라 staging area와 local repository의 중간과정 존재.\n",
    "- 먼저 git add로 staging area에 올릴 항목을 고름.\n",
    "- got commit을 통해 local repository로 올림. 확인창 뜬다.\n",
    "- 마지막으로 remote repository에 push. 총 3번의 확인과정."
   ]
  },
  {
   "cell_type": "markdown",
   "id": "d14b46c0",
   "metadata": {},
   "source": [
    "### GitHub란\n",
    "- Git repository를 업로드할 수 있는 웹사이트"
   ]
  },
  {
   "cell_type": "markdown",
   "id": "8f6f912a",
   "metadata": {},
   "source": [
    "### Git을 사용하는 이유\n",
    "- 변경 취소: 구 버전의 작업파일을 복구하여 이전 버전으로 돌아갈 수 있다.\n",
    "- 변경 이력\n",
    "- 변경 이유 기록: commit할 때 이유를 반드시 기록하도록 되어있다.\n",
    "- 여러 갈래의 히스토리: 서로 다른 기능을 독립적으로 실험하기 위해 branch생성 가능. -> 성공 시 main branch\n",
    "- 충돌 해결 능력: 여러 사람들이 동시에 같은 파일을 작업할 때.. \n",
    "- 기록 요구: Issues를 사용해 버그를 기록하거나. 개발하고 싶은 새로운 기능 구체화\n",
    "- 진행중인 작업 검토: Pull request 목록\n",
    "- 팀 진척상황 확인"
   ]
  },
  {
   "cell_type": "markdown",
   "id": "33aba77f",
   "metadata": {},
   "source": [
    "### 소스트리"
   ]
  },
  {
   "cell_type": "markdown",
   "id": "56136a69",
   "metadata": {},
   "source": [
    "수정2"
   ]
  },
  {
   "cell_type": "code",
   "execution_count": null,
   "id": "93b6febf",
   "metadata": {},
   "outputs": [],
   "source": []
  },
  {
   "cell_type": "code",
   "execution_count": null,
   "id": "a23c7c2b",
   "metadata": {},
   "outputs": [],
   "source": []
  },
  {
   "cell_type": "code",
   "execution_count": null,
   "id": "74af2b14",
   "metadata": {},
   "outputs": [],
   "source": []
  },
  {
   "cell_type": "code",
   "execution_count": null,
   "id": "b9e2790a",
   "metadata": {},
   "outputs": [],
   "source": []
  },
  {
   "cell_type": "code",
   "execution_count": null,
   "id": "74045a38",
   "metadata": {},
   "outputs": [],
   "source": []
  },
  {
   "cell_type": "code",
   "execution_count": null,
   "id": "3e1be24a",
   "metadata": {},
   "outputs": [],
   "source": []
  },
  {
   "cell_type": "code",
   "execution_count": null,
   "id": "d6b4800b",
   "metadata": {},
   "outputs": [],
   "source": []
  },
  {
   "cell_type": "code",
   "execution_count": null,
   "id": "8c89f30a",
   "metadata": {},
   "outputs": [],
   "source": []
  },
  {
   "cell_type": "code",
   "execution_count": null,
   "id": "d7ae9fdc",
   "metadata": {},
   "outputs": [],
   "source": []
  },
  {
   "cell_type": "code",
   "execution_count": null,
   "id": "2bada80c",
   "metadata": {},
   "outputs": [],
   "source": []
  },
  {
   "cell_type": "code",
   "execution_count": null,
   "id": "505b954a",
   "metadata": {},
   "outputs": [],
   "source": []
  },
  {
   "cell_type": "code",
   "execution_count": null,
   "id": "e6d5992f",
   "metadata": {},
   "outputs": [],
   "source": []
  },
  {
   "cell_type": "code",
   "execution_count": null,
   "id": "afd40d93",
   "metadata": {},
   "outputs": [],
   "source": []
  },
  {
   "cell_type": "code",
   "execution_count": null,
   "id": "283aac36",
   "metadata": {},
   "outputs": [],
   "source": []
  },
  {
   "cell_type": "code",
   "execution_count": null,
   "id": "0db856ed",
   "metadata": {},
   "outputs": [],
   "source": []
  },
  {
   "cell_type": "code",
   "execution_count": null,
   "id": "51f26ba0",
   "metadata": {},
   "outputs": [],
   "source": []
  },
  {
   "cell_type": "code",
   "execution_count": null,
   "id": "2f835d0a",
   "metadata": {},
   "outputs": [],
   "source": []
  },
  {
   "cell_type": "code",
   "execution_count": null,
   "id": "4f6313aa",
   "metadata": {},
   "outputs": [],
   "source": []
  },
  {
   "cell_type": "code",
   "execution_count": null,
   "id": "9fabc767",
   "metadata": {},
   "outputs": [],
   "source": []
  },
  {
   "cell_type": "code",
   "execution_count": null,
   "id": "73a1ae3b",
   "metadata": {},
   "outputs": [],
   "source": []
  },
  {
   "cell_type": "code",
   "execution_count": null,
   "id": "0ba41260",
   "metadata": {},
   "outputs": [],
   "source": []
  },
  {
   "cell_type": "code",
   "execution_count": null,
   "id": "24fa7f84",
   "metadata": {},
   "outputs": [],
   "source": []
  },
  {
   "cell_type": "code",
   "execution_count": null,
   "id": "1e8f815d",
   "metadata": {},
   "outputs": [],
   "source": []
  },
  {
   "cell_type": "code",
   "execution_count": null,
   "id": "a11d4103",
   "metadata": {},
   "outputs": [],
   "source": []
  },
  {
   "cell_type": "code",
   "execution_count": null,
   "id": "d0804aaa",
   "metadata": {},
   "outputs": [],
   "source": []
  },
  {
   "cell_type": "code",
   "execution_count": null,
   "id": "12eeebc8",
   "metadata": {},
   "outputs": [],
   "source": []
  },
  {
   "cell_type": "code",
   "execution_count": null,
   "id": "9dc90e9b",
   "metadata": {},
   "outputs": [],
   "source": []
  },
  {
   "cell_type": "code",
   "execution_count": null,
   "id": "d18717db",
   "metadata": {},
   "outputs": [],
   "source": []
  },
  {
   "cell_type": "code",
   "execution_count": null,
   "id": "cc69731b",
   "metadata": {},
   "outputs": [],
   "source": []
  },
  {
   "cell_type": "code",
   "execution_count": null,
   "id": "ab4abf4e",
   "metadata": {},
   "outputs": [],
   "source": []
  },
  {
   "cell_type": "code",
   "execution_count": null,
   "id": "b383d7e3",
   "metadata": {},
   "outputs": [],
   "source": []
  }
 ],
 "metadata": {
  "kernelspec": {
   "display_name": "Python 3 (ipykernel)",
   "language": "python",
   "name": "python3"
  },
  "language_info": {
   "codemirror_mode": {
    "name": "ipython",
    "version": 3
   },
   "file_extension": ".py",
   "mimetype": "text/x-python",
   "name": "python",
   "nbconvert_exporter": "python",
   "pygments_lexer": "ipython3",
   "version": "3.10.9"
  }
 },
 "nbformat": 4,
 "nbformat_minor": 5
}
